{
  "nbformat": 4,
  "nbformat_minor": 0,
  "metadata": {
    "colab": {
      "provenance": [],
      "authorship_tag": "ABX9TyMkjSR5zmJ/8BCC/DRx1i3c",
      "include_colab_link": true
    },
    "kernelspec": {
      "name": "python3",
      "display_name": "Python 3"
    },
    "language_info": {
      "name": "python"
    }
  },
  "cells": [
    {
      "cell_type": "markdown",
      "metadata": {
        "id": "view-in-github",
        "colab_type": "text"
      },
      "source": [
        "<a href=\"https://colab.research.google.com/github/Arminsbss/Epidemic-calculator/blob/main/epidemic_calculator.ipynb\" target=\"_parent\"><img src=\"https://colab.research.google.com/assets/colab-badge.svg\" alt=\"Open In Colab\"/></a>"
      ]
    },
    {
      "cell_type": "code",
      "execution_count": null,
      "metadata": {
        "colab": {
          "base_uri": "https://localhost:8080/"
        },
        "id": "43QwgoqHHPBr",
        "outputId": "07202e0f-2d9c-484d-f70b-f93cac501510"
      },
      "outputs": [
        {
          "output_type": "stream",
          "name": "stdout",
          "text": [
            "Susceptible: 897957.1462359905\n",
            "Exposed: 29526.20126550219\n",
            "Asymptomatic: 39042.84163942642\n",
            "Infected: 18142.901563473402\n",
            "Removed: 15340.90929560729\n"
          ]
        }
      ],
      "source": [
        "import numpy as np\n",
        "\n",
        "def seair_simulation(population, r0, incubation_period, recovery_period, initial_infected, days):\n",
        "    susceptible = population - initial_infected\n",
        "    exposed = initial_infected\n",
        "    asymptomatic = 0\n",
        "    infected = initial_infected\n",
        "    removed = 0\n",
        "\n",
        "    # Parameters\n",
        "    alpha = 1 / incubation_period\n",
        "    gamma = 1 / recovery_period\n",
        "\n",
        "    # Arrays to store results\n",
        "    susceptible_over_time = [susceptible]\n",
        "    exposed_over_time = [exposed]\n",
        "    asymptomatic_over_time = [asymptomatic]\n",
        "    infected_over_time = [infected]\n",
        "    removed_over_time = [removed]\n",
        "\n",
        "    # SEAIR model simulation\n",
        "    for day in range(1, days):\n",
        "        new_exposed = (r0 * alpha * susceptible * infected) / population\n",
        "        new_asymptomatic = alpha * exposed\n",
        "        new_infected = gamma * asymptomatic\n",
        "        new_removed = gamma * infected\n",
        "\n",
        "        susceptible -= new_exposed\n",
        "        exposed += new_exposed - new_asymptomatic\n",
        "        asymptomatic += new_asymptomatic - new_infected\n",
        "        infected += new_infected - new_removed\n",
        "        removed += new_removed\n",
        "\n",
        "        susceptible_over_time.append(susceptible)\n",
        "        exposed_over_time.append(exposed)\n",
        "        asymptomatic_over_time.append(asymptomatic)\n",
        "        infected_over_time.append(infected)\n",
        "        removed_over_time.append(removed)\n",
        "\n",
        "    return (susceptible_over_time, exposed_over_time, asymptomatic_over_time, infected_over_time, removed_over_time)\n",
        "\n",
        "# Example usage\n",
        "population = 1000000\n",
        "r0 = 2.5\n",
        "incubation_period = 5\n",
        "recovery_period = 14\n",
        "initial_infected = 10\n",
        "days = 100\n",
        "\n",
        "results = seair_simulation(population, r0, incubation_period, recovery_period, initial_infected, days)\n",
        "print(\"Susceptible:\", results[0][-1])\n",
        "print(\"Exposed:\", results[1][-1])\n",
        "print(\"Asymptomatic:\", results[2][-1])\n",
        "print(\"Infected:\", results[3][-1])\n",
        "print(\"Removed:\", results[4][-1])\n"
      ]
    },
    {
      "cell_type": "code",
      "source": [
        "!pip install PyQt5"
      ],
      "metadata": {
        "colab": {
          "base_uri": "https://localhost:8080/"
        },
        "id": "wroMIQu9Hsdg",
        "outputId": "6f0f3fc4-0267-4e76-a3b3-09058b4fc525"
      },
      "execution_count": null,
      "outputs": [
        {
          "output_type": "stream",
          "name": "stdout",
          "text": [
            "Collecting PyQt5\n",
            "  Downloading PyQt5-5.15.10-cp37-abi3-manylinux_2_17_x86_64.whl (8.2 MB)\n",
            "\u001b[2K     \u001b[90m━━━━━━━━━━━━━━━━━━━━━━━━━━━━━━━━━━━━━━━━\u001b[0m \u001b[32m8.2/8.2 MB\u001b[0m \u001b[31m55.5 MB/s\u001b[0m eta \u001b[36m0:00:00\u001b[0m\n",
            "\u001b[?25hCollecting PyQt5-sip<13,>=12.13 (from PyQt5)\n",
            "  Downloading PyQt5_sip-12.13.0-cp310-cp310-manylinux_2_5_x86_64.manylinux1_x86_64.whl (338 kB)\n",
            "\u001b[2K     \u001b[90m━━━━━━━━━━━━━━━━━━━━━━━━━━━━━━━━━━━━━━━━\u001b[0m \u001b[32m338.1/338.1 kB\u001b[0m \u001b[31m35.5 MB/s\u001b[0m eta \u001b[36m0:00:00\u001b[0m\n",
            "\u001b[?25hCollecting PyQt5-Qt5>=5.15.2 (from PyQt5)\n",
            "  Downloading PyQt5_Qt5-5.15.2-py3-none-manylinux2014_x86_64.whl (59.9 MB)\n",
            "\u001b[2K     \u001b[90m━━━━━━━━━━━━━━━━━━━━━━━━━━━━━━━━━━━━━━━━\u001b[0m \u001b[32m59.9/59.9 MB\u001b[0m \u001b[31m10.0 MB/s\u001b[0m eta \u001b[36m0:00:00\u001b[0m\n",
            "\u001b[?25hInstalling collected packages: PyQt5-Qt5, PyQt5-sip, PyQt5\n",
            "Successfully installed PyQt5-5.15.10 PyQt5-Qt5-5.15.2 PyQt5-sip-12.13.0\n"
          ]
        }
      ]
    },
    {
      "cell_type": "code",
      "source": [
        "import sys\n",
        "from PyQt5.QtWidgets import QApplication, QWidget, QVBoxLayout, QLabel, QLineEdit, QPushButton\n",
        "import matplotlib.pyplot as plt\n",
        "\n",
        "class EpidemicCalculator(QWidget):\n",
        "    def __init__(self):\n",
        "        super().__init__()\n",
        "        self.initUI()\n",
        "\n",
        "    def initUI(self):\n",
        "        layout = QVBoxLayout()\n",
        "\n",
        "        self.population_label = QLabel(\"Population:\")\n",
        "        self.population_input = QLineEdit()\n",
        "        layout.addWidget(self.population_label)\n",
        "        layout.addWidget(self.population_input)\n",
        "\n",
        "        self.r0_label = QLabel(\"R0:\")\n",
        "        self.r0_input = QLineEdit()\n",
        "        layout.addWidget(self.r0_label)\n",
        "        layout.addWidget(self.r0_input)\n",
        "\n",
        "        self.incubation_label = QLabel(\"Incubation Period:\")\n",
        "        self.incubation_input = QLineEdit()\n",
        "        layout.addWidget(self.incubation_label)\n",
        "        layout.addWidget(self.incubation_input)\n",
        "\n",
        "        self.recovery_label = QLabel(\"Recovery Period:\")\n",
        "        self.recovery_input = QLineEdit()\n",
        "        layout.addWidget(self.recovery_label)\n",
        "        layout.addWidget(self.recovery_input)\n",
        "\n",
        "        self.infected_label = QLabel(\"Initial Infected:\")\n",
        "        self.infected_input = QLineEdit()\n",
        "        layout.addWidget(self.infected_label)\n",
        "        layout.addWidget(self.infected_input)\n",
        "\n",
        "        self.days_label = QLabel(\"Days:\")\n",
        "        self.days_input = QLineEdit()\n",
        "        layout.addWidget(self.days_label)\n",
        "        layout.addWidget(self.days_input)\n",
        "\n",
        "        self.simulate_button = QPushButton(\"Run Simulation\")\n",
        "        self.simulate_button.clicked.connect(self.run_simulation)\n",
        "        layout.addWidget(self.simulate_button)\n",
        "\n",
        "        self.setLayout(layout)\n",
        "        self.setWindowTitle(\"Epidemic Calculator\")\n",
        "        self.show()\n",
        "\n",
        "    def run_simulation(self):\n",
        "        population = int(self.population_input.text())\n",
        "        r0 = float(self.r0_input.text())\n",
        "        incubation_period = int(self.incubation_input.text())\n",
        "        recovery_period = int(self.recovery_input.text())\n",
        "        initial_infected = int(self.infected_input.text())\n",
        "        days = int(self.days_input.text())\n",
        "\n",
        "        results = seair_simulation(population, r0, incubation_period, recovery_period, initial_infected, days)\n",
        "\n",
        "        plt.plot(results[0], label='Susceptible')\n",
        "        plt.plot(results[1], label='Exposed')\n",
        "        plt.plot(results[2], label='Asymptomatic')\n",
        "        plt.plot(results[3], label='Infected')\n",
        "        plt.plot(results[4], label='Removed')\n",
        "        plt.legend()\n",
        "        plt.xlabel('Days')\n",
        "        plt.ylabel('Population')\n",
        "        plt.title('SEAIR Model Simulation')\n",
        "        plt.show()\n",
        "\n",
        "if __name__ == '__main__':\n",
        "    app = QApplication(sys.argv)\n",
        "    ex = EpidemicCalculator()\n",
        "    sys.exit(app.exec_())\n"
      ],
      "metadata": {
        "id": "_SRJKbuJHm95"
      },
      "execution_count": null,
      "outputs": []
    }
  ]
}